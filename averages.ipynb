{
 "cells": [
  {
   "cell_type": "markdown",
   "metadata": {},
   "source": [
    "# Compute averages and autocorrelations on summary files"
   ]
  },
  {
   "cell_type": "markdown",
   "metadata": {},
   "source": [
    "- data files are in this directory\n",
    "- files are obtained using `pandas` HDF5 file writer\n",
    "- each file has a name of the form `N24S16T045b` corresponding to parameters: $N=24$, $L=16$, $T=0.5$, and stream=`b`\n",
    "- the columns are `traj, dH, cg_err, alpha_err, cg_it, energy, poly, R2, F2, acceptance`"
   ]
  },
  {
   "cell_type": "code",
   "execution_count": 1,
   "metadata": {},
   "outputs": [
    {
     "name": "stdout",
     "output_type": "stream",
     "text": [
      "Populating the interactive namespace from numpy and matplotlib\n"
     ]
    }
   ],
   "source": [
    "%pylab inline"
   ]
  },
  {
   "cell_type": "code",
   "execution_count": 2,
   "metadata": {},
   "outputs": [],
   "source": [
    "import numpy as np\n",
    "import pandas as pd\n",
    "import emcee as em\n",
    "import matplotlib.pyplot as plt\n",
    "import os, sys\n",
    "import lsqfit as ls\n",
    "import gvar as gv\n",
    "from glob import glob"
   ]
  },
  {
   "cell_type": "markdown",
   "metadata": {},
   "source": [
    "Define functions to select the file base on the parameters. \n",
    "\n",
    "Include the possibility of different streams"
   ]
  },
  {
   "cell_type": "code",
   "execution_count": 3,
   "metadata": {},
   "outputs": [],
   "source": [
    "import re\n",
    "def get_params(filename):\n",
    "    if '/' in filename:\n",
    "        filename = filename.split('/')[-1]\n",
    "    params = filename.split('_')[0]\n",
    "    if re.search('[a-d]$',params):\n",
    "        par = params[:-1]\n",
    "        stream = params[-1]\n",
    "    else:\n",
    "        par = params\n",
    "        stream = 'a'\n",
    "        \n",
    "    n = int(par.split('N')[1].split('S')[0])\n",
    "    s = int(par.split('S')[1].split('T')[0])\n",
    "    t = str(par.split('T')[1])\n",
    "    t = '{0}.{1}'.format(t[0],t[1:])\n",
    "    t = float(t)\n",
    "    r = stream\n",
    "    return n,s,t,r"
   ]
  },
  {
   "cell_type": "markdown",
   "metadata": {},
   "source": [
    "### Test analysis procedure on one single file"
   ]
  },
  {
   "cell_type": "markdown",
   "metadata": {},
   "source": [
    "Define the parameters of the ensemble by getting them from the name of the file:"
   ]
  },
  {
   "cell_type": "code",
   "execution_count": 30,
   "metadata": {},
   "outputs": [],
   "source": [
    "prefix='data_from_oslic/'\n",
    "filename=prefix+'N24S16T04_improved.h5'"
   ]
  },
  {
   "cell_type": "code",
   "execution_count": 31,
   "metadata": {},
   "outputs": [
    {
     "data": {
      "text/plain": [
       "(24, 16, 0.4, 'a')"
      ]
     },
     "execution_count": 31,
     "metadata": {},
     "output_type": "execute_result"
    }
   ],
   "source": [
    "get_params(filename)"
   ]
  },
  {
   "cell_type": "markdown",
   "metadata": {},
   "source": [
    "Get the data from the file into a `pandas` dataframe. Since it was created with `pandas` `write_hdf` function, we can simply use `read_hdf` and the dataframe will be read correctly, with the correct column header."
   ]
  },
  {
   "cell_type": "code",
   "execution_count": 32,
   "metadata": {},
   "outputs": [
    {
     "data": {
      "text/html": [
       "<div>\n",
       "<style scoped>\n",
       "    .dataframe tbody tr th:only-of-type {\n",
       "        vertical-align: middle;\n",
       "    }\n",
       "\n",
       "    .dataframe tbody tr th {\n",
       "        vertical-align: top;\n",
       "    }\n",
       "\n",
       "    .dataframe thead th {\n",
       "        text-align: right;\n",
       "    }\n",
       "</style>\n",
       "<table border=\"1\" class=\"dataframe\">\n",
       "  <thead>\n",
       "    <tr style=\"text-align: right;\">\n",
       "      <th></th>\n",
       "      <th>traj</th>\n",
       "      <th>dH</th>\n",
       "      <th>cg_err</th>\n",
       "      <th>alpha_err</th>\n",
       "      <th>cg_it</th>\n",
       "      <th>E</th>\n",
       "      <th>Pol</th>\n",
       "      <th>trx</th>\n",
       "      <th>trxy</th>\n",
       "      <th>leig</th>\n",
       "      <th>seig</th>\n",
       "      <th>acc</th>\n",
       "    </tr>\n",
       "  </thead>\n",
       "  <tbody>\n",
       "    <tr>\n",
       "      <th>0</th>\n",
       "      <td>1</td>\n",
       "      <td>-1.030079084</td>\n",
       "      <td>0</td>\n",
       "      <td>0</td>\n",
       "      <td>533</td>\n",
       "      <td>65.762291</td>\n",
       "      <td>0.868524</td>\n",
       "      <td>0.692894</td>\n",
       "      <td>0.863307</td>\n",
       "      <td>16.7823411</td>\n",
       "      <td>0.007968</td>\n",
       "      <td>1.0</td>\n",
       "    </tr>\n",
       "    <tr>\n",
       "      <th>1</th>\n",
       "      <td>2</td>\n",
       "      <td>-0.459381479</td>\n",
       "      <td>0</td>\n",
       "      <td>0</td>\n",
       "      <td>587</td>\n",
       "      <td>48.840538</td>\n",
       "      <td>0.861272</td>\n",
       "      <td>1.447799</td>\n",
       "      <td>3.657932</td>\n",
       "      <td>17.6511327</td>\n",
       "      <td>0.007014</td>\n",
       "      <td>1.0</td>\n",
       "    </tr>\n",
       "    <tr>\n",
       "      <th>2</th>\n",
       "      <td>3</td>\n",
       "      <td>316.434547655</td>\n",
       "      <td>0</td>\n",
       "      <td>0</td>\n",
       "      <td>676</td>\n",
       "      <td>35.287288</td>\n",
       "      <td>0.834769</td>\n",
       "      <td>2.054913</td>\n",
       "      <td>6.977477</td>\n",
       "      <td>18.2269058</td>\n",
       "      <td>0.005584</td>\n",
       "      <td>1.0</td>\n",
       "    </tr>\n",
       "    <tr>\n",
       "      <th>3</th>\n",
       "      <td>4</td>\n",
       "      <td>8.636693847</td>\n",
       "      <td>0</td>\n",
       "      <td>0</td>\n",
       "      <td>715</td>\n",
       "      <td>25.420079</td>\n",
       "      <td>0.825137</td>\n",
       "      <td>2.462883</td>\n",
       "      <td>9.629015</td>\n",
       "      <td>18.5218233</td>\n",
       "      <td>0.005087</td>\n",
       "      <td>1.0</td>\n",
       "    </tr>\n",
       "    <tr>\n",
       "      <th>4</th>\n",
       "      <td>5</td>\n",
       "      <td>-0.703243570</td>\n",
       "      <td>0</td>\n",
       "      <td>0</td>\n",
       "      <td>756</td>\n",
       "      <td>17.975954</td>\n",
       "      <td>0.831075</td>\n",
       "      <td>2.736588</td>\n",
       "      <td>11.618125</td>\n",
       "      <td>18.7345847</td>\n",
       "      <td>0.004656</td>\n",
       "      <td>1.0</td>\n",
       "    </tr>\n",
       "  </tbody>\n",
       "</table>\n",
       "</div>"
      ],
      "text/plain": [
       "   traj             dH  cg_err  alpha_err  cg_it          E       Pol  \\\n",
       "0     1   -1.030079084       0          0    533  65.762291  0.868524   \n",
       "1     2   -0.459381479       0          0    587  48.840538  0.861272   \n",
       "2     3  316.434547655       0          0    676  35.287288  0.834769   \n",
       "3     4    8.636693847       0          0    715  25.420079  0.825137   \n",
       "4     5   -0.703243570       0          0    756  17.975954  0.831075   \n",
       "\n",
       "        trx       trxy        leig      seig  acc  \n",
       "0  0.692894   0.863307  16.7823411  0.007968  1.0  \n",
       "1  1.447799   3.657932  17.6511327  0.007014  1.0  \n",
       "2  2.054913   6.977477  18.2269058  0.005584  1.0  \n",
       "3  2.462883   9.629015  18.5218233  0.005087  1.0  \n",
       "4  2.736588  11.618125  18.7345847  0.004656  1.0  "
      ]
     },
     "execution_count": 32,
     "metadata": {},
     "output_type": "execute_result"
    }
   ],
   "source": [
    "df = pd.read_hdf(filename)\n",
    "df.head()"
   ]
  },
  {
   "cell_type": "markdown",
   "metadata": {},
   "source": [
    "Look at thermalization: first 1000 trajectories for the energy"
   ]
  },
  {
   "cell_type": "code",
   "execution_count": 7,
   "metadata": {},
   "outputs": [
    {
     "data": {
      "text/plain": [
       "<matplotlib.axes._subplots.AxesSubplot at 0x7f3e76f4b3c8>"
      ]
     },
     "execution_count": 7,
     "metadata": {},
     "output_type": "execute_result"
    },
    {
     "data": {
      "image/png": "[encoded data removed]",
      "text/plain": [
       "<Figure size 432x288 with 1 Axes>"
      ]
     },
     "metadata": {
      "needs_background": "light"
     },
     "output_type": "display_data"
    }
   ],
   "source": [
    "df.iloc[:1000].plot('traj','E')"
   ]
  },
  {
   "cell_type": "code",
   "execution_count": 13,
   "metadata": {},
   "outputs": [
    {
     "data": {
      "text/plain": [
       "(18254, 12)"
      ]
     },
     "execution_count": 13,
     "metadata": {},
     "output_type": "execute_result"
    }
   ],
   "source": [
    "df.shape"
   ]
  },
  {
   "cell_type": "markdown",
   "metadata": {},
   "source": [
    "Cut the first 1000 trajectories and look at a different observable: $Tr[X^2]$"
   ]
  },
  {
   "cell_type": "code",
   "execution_count": 9,
   "metadata": {},
   "outputs": [
    {
     "data": {
      "text/plain": [
       "<matplotlib.axes._subplots.AxesSubplot at 0x7f0421e06f98>"
      ]
     },
     "execution_count": 9,
     "metadata": {},
     "output_type": "execute_result"
    },
    {
     "data": {
      "image/png": "[encoded data removed]",
      "text/plain": [
       "<Figure size 432x288 with 1 Axes>"
      ]
     },
     "metadata": {},
     "output_type": "display_data"
    }
   ],
   "source": [
    "df.iloc[1000:].plot('traj','trx')"
   ]
  },
  {
   "cell_type": "markdown",
   "metadata": {},
   "source": [
    "or $Tr[X,Y]^2$"
   ]
  },
  {
   "cell_type": "code",
   "execution_count": 20,
   "metadata": {},
   "outputs": [
    {
     "data": {
      "text/plain": [
       "<matplotlib.axes._subplots.AxesSubplot at 0x7fa7f31f0358>"
      ]
     },
     "execution_count": 20,
     "metadata": {},
     "output_type": "execute_result"
    },
    {
     "data": {
      "image/png": "[encoded data removed]",
      "text/plain": [
       "<matplotlib.figure.Figure at 0x7fa7dcf3fac8>"
      ]
     },
     "metadata": {},
     "output_type": "display_data"
    }
   ],
   "source": [
    "df.iloc[1000:].plot('traj','trxy')"
   ]
  },
  {
   "cell_type": "markdown",
   "metadata": {},
   "source": [
    "Can also look at the acceptance"
   ]
  },
  {
   "cell_type": "code",
   "execution_count": 17,
   "metadata": {},
   "outputs": [
    {
     "data": {
      "text/plain": [
       "18249    -0.013463242\n",
       "18250    -0.033777181\n",
       "18251     0.035361378\n",
       "18252     0.004545841\n",
       "18253     0.015296068\n",
       "Name: dH, dtype: object"
      ]
     },
     "execution_count": 17,
     "metadata": {},
     "output_type": "execute_result"
    }
   ],
   "source": [
    "df['dH'].tail()"
   ]
  },
  {
   "cell_type": "code",
   "execution_count": 11,
   "metadata": {},
   "outputs": [
    {
     "name": "stdout",
     "output_type": "stream",
     "text": [
      "Average acceptance: 98.5%\n"
     ]
    }
   ],
   "source": [
    "print('Average acceptance: {:.1f}%'.format(df.acc.mean()*100))"
   ]
  },
  {
   "cell_type": "markdown",
   "metadata": {},
   "source": [
    "or look at CG iterations"
   ]
  },
  {
   "cell_type": "code",
   "execution_count": 10,
   "metadata": {},
   "outputs": [
    {
     "data": {
      "text/plain": [
       "<matplotlib.axes._subplots.AxesSubplot at 0x7f0421d97da0>"
      ]
     },
     "execution_count": 10,
     "metadata": {},
     "output_type": "execute_result"
    },
    {
     "data": {
      "image/png": "[encoded data removed]",
      "text/plain": [
       "<Figure size 432x288 with 1 Axes>"
      ]
     },
     "metadata": {},
     "output_type": "display_data"
    }
   ],
   "source": [
    "df.iloc[1000:].plot('traj','cg_it')"
   ]
  },
  {
   "cell_type": "code",
   "execution_count": 8,
   "metadata": {},
   "outputs": [
    {
     "data": {
      "text/plain": [
       "<matplotlib.axes._subplots.AxesSubplot at 0x7f3e74b5b390>"
      ]
     },
     "execution_count": 8,
     "metadata": {},
     "output_type": "execute_result"
    },
    {
     "data": {
      "image/png": "[encoded data removed]",
      "text/plain": [
       "<Figure size 432x288 with 1 Axes>"
      ]
     },
     "metadata": {
      "needs_background": "light"
     },
     "output_type": "display_data"
    }
   ],
   "source": [
    "df['cg_it'].iloc[1000:].plot.hist(bins=100)"
   ]
  },
  {
   "cell_type": "markdown",
   "metadata": {},
   "source": [
    "## Define function to plot the observables"
   ]
  },
  {
   "cell_type": "code",
   "execution_count": 9,
   "metadata": {},
   "outputs": [],
   "source": [
    "def plt_obs(filename,obs,cut=1000,bins=100,prefix='figures_obs',figshow=False):\n",
    "    ##### Get parameters ...\n",
    "    N, L, T, s = get_params(filename)\n",
    "    ##### Reading ...\n",
    "    df = pd.read_hdf(filename)\n",
    "    if (df.shape[0]<cut): return print('{:s} is shorter than cut={:d}'.format(filename,cut))\n",
    "    ##### Plotting ...\n",
    "    fig, (ax0,ax1) = plt.subplots(2,figsize=(12,6))\n",
    "    df[obs].iloc[cut:].plot(ax=ax0)\n",
    "    df[obs].iloc[cut:].plot.hist(bins=100,ax=ax1)\n",
    "    ax0.set_title('N={:d} L={:d} T={:.3f} s={:s} OBS={:s} cut={:d}'.format(N, L, T, s, obs, cut))\n",
    "    plt.savefig(prefix+'/N{:d}_L{:d}_T{:s}_s{:s}_{:s}_c{:d}.png'.format(N, L,str(T).replace('.',''), s, obs, cut),dpi=150)\n",
    "    if figshow: plt.show()\n",
    "    plt.close() # avoid memory problems"
   ]
  },
  {
   "cell_type": "code",
   "execution_count": 40,
   "metadata": {},
   "outputs": [],
   "source": [
    "def plt_obs_nice(filename,obs,cut=1000,bins=100,prefix='figures_obs',figshow=False):\n",
    "    ##### Get parameters ...\n",
    "    N, L, T, s = get_params(filename)\n",
    "    ##### Reading ...\n",
    "    df = pd.read_hdf(filename)\n",
    "    if (df.shape[0]<cut): return print('{:s} is shorter than cut={:d}'.format(filename,cut))\n",
    "    ##### Plotting ...\n",
    "    fig, ax = plt.subplots(1,2,figsize=(9,6),sharey=True,gridspec_kw={'width_ratios':[4,1]})\n",
    "    # Remove horizontal space between axes\n",
    "    fig.subplots_adjust(wspace=0)\n",
    "    df[obs].iloc[cut:].plot(ax=ax[0])\n",
    "    df[obs].iloc[cut:].plot.hist(bins=100,ax=ax[1],orientation='horizontal')\n",
    "    ax[0].set_xlabel('traj.')\n",
    "    ax[1].set_xlabel('count')    \n",
    "    ax[0].set_title('N={:d} L={:d} T={:.3f} s={:s} OBS={:s} cut={:d}'.format(N, L, T, s, obs, cut))\n",
    "    plt.savefig(prefix+'/nice_N{:d}_L{:d}_T{:s}_s{:s}_{:s}_c{:d}.png'.format(N, L,str(T).replace('.',''), s, obs, cut),dpi=150)\n",
    "    if figshow: plt.show()\n",
    "    plt.close() # avoid memory problems"
   ]
  },
  {
   "cell_type": "code",
   "execution_count": 37,
   "metadata": {},
   "outputs": [
    {
     "data": {
      "image/png": "[encoded data removed]",
      "text/plain": [
       "<Figure size 864x432 with 2 Axes>"
      ]
     },
     "metadata": {
      "needs_background": "light"
     },
     "output_type": "display_data"
    }
   ],
   "source": [
    "plt_obs(filename,'Pol',cut=5000,figshow=True)"
   ]
  },
  {
   "cell_type": "code",
   "execution_count": 39,
   "metadata": {},
   "outputs": [
    {
     "data": {
      "image/png": "[encoded data removed]",
      "text/plain": [
       "<Figure size 648x432 with 2 Axes>"
      ]
     },
     "metadata": {
      "needs_background": "light"
     },
     "output_type": "display_data"
    }
   ],
   "source": [
    "plt_obs_nice(filename,'Pol',cut=5000,figshow=True)"
   ]
  },
  {
   "cell_type": "code",
   "execution_count": 11,
   "metadata": {},
   "outputs": [],
   "source": [
    "tau=em.autocorr.integrated_time(df['Pol'].iloc[1000:].values, c=10)"
   ]
  },
  {
   "cell_type": "code",
   "execution_count": 12,
   "metadata": {},
   "outputs": [
    {
     "name": "stdout",
     "output_type": "stream",
     "text": [
      "10.611744429549224\n"
     ]
    }
   ],
   "source": [
    "print(tau)"
   ]
  },
  {
   "cell_type": "markdown",
   "metadata": {},
   "source": [
    "## Run the analysis procedure on all the files"
   ]
  },
  {
   "cell_type": "markdown",
   "metadata": {},
   "source": [
    "Do a loop over all the files and analyze the energy, writing out the corresponding averages.\n",
    "\n",
    "It is worth defining a function that does the full analysis on a specific file"
   ]
  },
  {
   "cell_type": "code",
   "execution_count": 23,
   "metadata": {
    "collapsed": true
   },
   "outputs": [],
   "source": [
    "def do_analysis(filename,obs,cut=1000):\n",
    "    ##### Get parameters ...\n",
    "    N, L, T, s = get_params(filename)\n",
    "    \n",
    "    ##### Reading ...\n",
    "    df = pd.read_hdf(filename)\n",
    "\n",
    "    ##### Calculating ...\n",
    "    obs_data=df[obs].values\n",
    "    obs_data=obs_data[cut:] ## thermalization cut\n",
    "    try:\n",
    "        tau=em.autocorr.integrated_time(obs_data, c=10) # c=5 is used to constrain the window used for tau    \n",
    "    except AutocorrError:\n",
    "        print('Skip data because I don\\'t know the autocorrelation time')\n",
    "        return \n",
    "\n",
    "    bw=int(tau*5)\n",
    "    bins=gv.dataset.bin_data(obs_data,binsize=bw)\n",
    "    gv_avg=gv.dataset.avg_data(bins)\n",
    "\n",
    "    ##### Printing ...\n",
    "    print('{:d} {:d} {:.3f} {} {} | {:d} {:d} {:s}'\n",
    "          .format(N,L,T,gv.mean(gv_avg),gv.sdev(gv_avg),len(obs_data),len(bins),s))\n",
    "\n",
    "    return N, L, T, s, gv_avg, len(obs_data), len(bins)"
   ]
  },
  {
   "cell_type": "markdown",
   "metadata": {},
   "source": [
    "Define a new analysis function that would work only for temperatures $T\\le1.0$ and that will cut the data to keep only the stable part of `trx`, with `trx`$<4.0$. The latter cut is empirically observed to be the largest value (which happens for larger L, larger T and lower N, e.g. for us it's L=64, N=16 and T=1.0)"
   ]
  },
  {
   "cell_type": "code",
   "execution_count": 13,
   "metadata": {},
   "outputs": [],
   "source": [
    "def do_analysis_cutoff(filename,obs,cut=1000,R2cutoff=4.0,Tcutoff=1.0):\n",
    "    ##### Get parameters ...\n",
    "    N, L, T, s = get_params(filename)\n",
    "    if (T>Tcutoff):\n",
    "        print('# Tcutoff reached: {:.3f}>{:.3f} . Skipping ensemble N={:d} L={:d} T={:.3f} s={:d}'.format(T,Tcutoff,N,L,T,s))\n",
    "        return\n",
    "    ##### Reading ...\n",
    "    df = pd.read_hdf(filename)\n",
    "    \n",
    "    ###### Select data within R2cutoff ...\n",
    "    df = df.loc[df.trx<R2cutoff]\n",
    "    if (df.size<cut):\n",
    "        print('# low stats: data<cut ({:d}<{:d}) . Skipping ensemble N={:d} L={:d} T={:.3f} s={:s}'.format(df.size,cut,N,L,T,s))\n",
    "        return\n",
    "    ##### Thermalization cut ...\n",
    "    obs_data=df[obs].values\n",
    "    obs_data=obs_data[cut:]\n",
    "    ##### Calculate autocorr time and binned average\n",
    "    try:\n",
    "        tau=em.autocorr.integrated_time(obs_data, c=10) # c=10 is used as a more rigid constraint for the window used for tau    \n",
    "\n",
    "        bw=int(tau*5)\n",
    "        bins=gv.dataset.bin_data(obs_data,binsize=bw)\n",
    "        gv_avg=gv.dataset.avg_data(bins)\n",
    "\n",
    "    ##### Printing ...\n",
    "        print('{:d} {:d} {:.3f} {} {} | {:d} {:d} {:s}'.format(N,L,T,gv.mean(gv_avg),gv.sdev(gv_avg),len(obs_data),len(bins),s))\n",
    "    except:\n",
    "        print('# AutocorrError: Skipping ensemble N={:d} L={:d} T={:.3f} s={:s}'.format(N,L,T,s))\n",
    "        pass"
   ]
  },
  {
   "cell_type": "markdown",
   "metadata": {},
   "source": [
    "Get average values for CG iterations. Since there are spikes, we need to cut the distribution and then ignore the autocorrelation time because it is not a physical observable."
   ]
  },
  {
   "cell_type": "code",
   "execution_count": 23,
   "metadata": {},
   "outputs": [],
   "source": [
    "def do_analysis_cg(filename,obs,cut=1000,CGcutoff=2000,Tcutoff=1.0):\n",
    "    ##### Get parameters ...\n",
    "    N, L, T, s = get_params(filename)\n",
    "    if (T>Tcutoff):\n",
    "        print('# Tcutoff reached: {:.3f}>{:.3f} . Skipping ensemble N={:d} L={:d} T={:.3f} s={:d}'.format(T,Tcutoff,N,L,T,s))\n",
    "        return\n",
    "    ##### Reading ...\n",
    "    df = pd.read_hdf(filename)\n",
    "    \n",
    "    ###### Select data within CGcutoff ...\n",
    "    df = df.loc[df.cg_it<CGcutoff]\n",
    "    if (df.size<cut):\n",
    "        print('# low stats: data<cut ({:d}<{:d}) . Skipping ensemble N={:d} L={:d} T={:.3f} s={:s}'.format(df.size,cut,N,L,T,s))\n",
    "        return\n",
    "    ##### Thermalization cut ...\n",
    "    obs_data=df[obs].values\n",
    "    obs_data=obs_data[cut:]\n",
    "    ##### Calculate average\n",
    "    try:\n",
    "        bins=gv.dataset.bin_data(obs_data,binsize=100)\n",
    "        gv_avg=gv.dataset.avg_data(bins)\n",
    "    ##### Printing ...\n",
    "        print('{:d} {:d} {:.3f} {} {} | {:d} {:d} {:s}'.format(N,L,T,gv.mean(gv_avg),gv.sdev(gv_avg),len(obs_data),len(bins),s))\n",
    "    except:\n",
    "        print('# Skipping ensemble N={:d} L={:d} T={:.3f} s={:s}'.format(N,L,T,s))\n",
    "        pass"
   ]
  },
  {
   "cell_type": "markdown",
   "metadata": {},
   "source": [
    "First select all the files with `improved` results in the folder."
   ]
  },
  {
   "cell_type": "code",
   "execution_count": 41,
   "metadata": {},
   "outputs": [],
   "source": [
    "files = glob('data_from_oslic/N*_improved.h5')"
   ]
  },
  {
   "cell_type": "code",
   "execution_count": 42,
   "metadata": {},
   "outputs": [],
   "source": [
    "files.sort()"
   ]
  },
  {
   "cell_type": "code",
   "execution_count": 43,
   "metadata": {},
   "outputs": [
    {
     "data": {
      "text/plain": [
       "223"
      ]
     },
     "execution_count": 43,
     "metadata": {},
     "output_type": "execute_result"
    }
   ],
   "source": [
    "len(files)"
   ]
  },
  {
   "cell_type": "code",
   "execution_count": 17,
   "metadata": {},
   "outputs": [
    {
     "name": "stdout",
     "output_type": "stream",
     "text": [
      "24 16 0.400 0.7277817858119991 0.00038782457275243017 | 15374 301 a\n"
     ]
    }
   ],
   "source": [
    "do_analysis_cutoff(filename,'Pol',cut=5000)"
   ]
  },
  {
   "cell_type": "markdown",
   "metadata": {},
   "source": [
    "### Plot observable for all files"
   ]
  },
  {
   "cell_type": "code",
   "execution_count": 45,
   "metadata": {},
   "outputs": [
    {
     "name": "stdout",
     "output_type": "stream",
     "text": [
      "data_from_oslic/N128S8T04_improved.h5 is shorter than cut=1000\n",
      "data_from_oslic/N128S8T04b_improved.h5 is shorter than cut=1000\n",
      "data_from_oslic/N12S12T01_improved.h5 is shorter than cut=1000\n",
      "data_from_oslic/N12S16T01_improved.h5 is shorter than cut=1000\n",
      "data_from_oslic/N12S24T01_improved.h5 is shorter than cut=1000\n",
      "data_from_oslic/N12S8T01_improved.h5 is shorter than cut=1000\n",
      "data_from_oslic/N32S12T0425b_improved.h5 is shorter than cut=1000\n",
      "data_from_oslic/N32S12T045b_improved.h5 is shorter than cut=1000\n",
      "data_from_oslic/N32S12T0475b_improved.h5 is shorter than cut=1000\n",
      "data_from_oslic/N32S16T01_improved.h5 is shorter than cut=1000\n",
      "data_from_oslic/N32S16T02_improved.h5 is shorter than cut=1000\n",
      "data_from_oslic/N32S16T0375c_improved.h5 is shorter than cut=1000\n",
      "data_from_oslic/N32S16T0375d_improved.h5 is shorter than cut=1000\n",
      "data_from_oslic/N32S16T0425b_improved.h5 is shorter than cut=1000\n",
      "data_from_oslic/N32S16T045b_improved.h5 is shorter than cut=1000\n",
      "data_from_oslic/N32S16T0475b_improved.h5 is shorter than cut=1000\n",
      "data_from_oslic/N32S24T0375_improved.h5 is shorter than cut=1000\n",
      "data_from_oslic/N32S24T0375b_improved.h5 is shorter than cut=1000\n",
      "data_from_oslic/N32S24T0375c_improved.h5 is shorter than cut=1000\n",
      "data_from_oslic/N32S24T0375d_improved.h5 is shorter than cut=1000\n",
      "data_from_oslic/N32S24T0425b_improved.h5 is shorter than cut=1000\n",
      "data_from_oslic/N32S24T045b_improved.h5 is shorter than cut=1000\n",
      "data_from_oslic/N32S32T01_improved.h5 is shorter than cut=1000\n",
      "data_from_oslic/N32S32T02_improved.h5 is shorter than cut=1000\n",
      "data_from_oslic/N32S32T0375_improved.h5 is shorter than cut=1000\n",
      "data_from_oslic/N32S32T0375b_improved.h5 is shorter than cut=1000\n",
      "data_from_oslic/N32S32T0375c_improved.h5 is shorter than cut=1000\n",
      "data_from_oslic/N32S32T0375d_improved.h5 is shorter than cut=1000\n",
      "data_from_oslic/N32S32T03_improved.h5 is shorter than cut=1000\n",
      "data_from_oslic/N64S8T01_improved.h5 is shorter than cut=1000\n"
     ]
    }
   ],
   "source": [
    "for filename in files:\n",
    "    plt_obs_nice(filename,'trx',cut=1000,prefix='figures_obs')"
   ]
  },
  {
   "cell_type": "code",
   "execution_count": 46,
   "metadata": {},
   "outputs": [
    {
     "name": "stdout",
     "output_type": "stream",
     "text": [
      "data_from_oslic/N128S8T04_improved.h5 is shorter than cut=1000\n",
      "data_from_oslic/N128S8T04b_improved.h5 is shorter than cut=1000\n",
      "data_from_oslic/N12S12T01_improved.h5 is shorter than cut=1000\n",
      "data_from_oslic/N12S16T01_improved.h5 is shorter than cut=1000\n",
      "data_from_oslic/N12S24T01_improved.h5 is shorter than cut=1000\n",
      "data_from_oslic/N12S8T01_improved.h5 is shorter than cut=1000\n",
      "data_from_oslic/N32S12T0425b_improved.h5 is shorter than cut=1000\n",
      "data_from_oslic/N32S12T045b_improved.h5 is shorter than cut=1000\n",
      "data_from_oslic/N32S12T0475b_improved.h5 is shorter than cut=1000\n",
      "data_from_oslic/N32S16T01_improved.h5 is shorter than cut=1000\n",
      "data_from_oslic/N32S16T02_improved.h5 is shorter than cut=1000\n",
      "data_from_oslic/N32S16T0375c_improved.h5 is shorter than cut=1000\n",
      "data_from_oslic/N32S16T0375d_improved.h5 is shorter than cut=1000\n",
      "data_from_oslic/N32S16T0425b_improved.h5 is shorter than cut=1000\n",
      "data_from_oslic/N32S16T045b_improved.h5 is shorter than cut=1000\n",
      "data_from_oslic/N32S16T0475b_improved.h5 is shorter than cut=1000\n",
      "data_from_oslic/N32S24T0375_improved.h5 is shorter than cut=1000\n",
      "data_from_oslic/N32S24T0375b_improved.h5 is shorter than cut=1000\n",
      "data_from_oslic/N32S24T0375c_improved.h5 is shorter than cut=1000\n",
      "data_from_oslic/N32S24T0375d_improved.h5 is shorter than cut=1000\n",
      "data_from_oslic/N32S24T0425b_improved.h5 is shorter than cut=1000\n",
      "data_from_oslic/N32S24T045b_improved.h5 is shorter than cut=1000\n",
      "data_from_oslic/N32S32T01_improved.h5 is shorter than cut=1000\n",
      "data_from_oslic/N32S32T02_improved.h5 is shorter than cut=1000\n",
      "data_from_oslic/N32S32T0375_improved.h5 is shorter than cut=1000\n",
      "data_from_oslic/N32S32T0375b_improved.h5 is shorter than cut=1000\n",
      "data_from_oslic/N32S32T0375c_improved.h5 is shorter than cut=1000\n",
      "data_from_oslic/N32S32T0375d_improved.h5 is shorter than cut=1000\n",
      "data_from_oslic/N32S32T03_improved.h5 is shorter than cut=1000\n",
      "data_from_oslic/N64S8T01_improved.h5 is shorter than cut=1000\n"
     ]
    }
   ],
   "source": [
    "for filename in files:\n",
    "    plt_obs_nice(filename,'E',cut=1000,prefix='figures_obs')"
   ]
  },
  {
   "cell_type": "code",
   "execution_count": 47,
   "metadata": {},
   "outputs": [
    {
     "name": "stdout",
     "output_type": "stream",
     "text": [
      "data_from_oslic/N128S8T04_improved.h5 is shorter than cut=1000\n",
      "data_from_oslic/N128S8T04b_improved.h5 is shorter than cut=1000\n",
      "data_from_oslic/N12S12T01_improved.h5 is shorter than cut=1000\n",
      "data_from_oslic/N12S16T01_improved.h5 is shorter than cut=1000\n",
      "data_from_oslic/N12S24T01_improved.h5 is shorter than cut=1000\n",
      "data_from_oslic/N12S8T01_improved.h5 is shorter than cut=1000\n",
      "data_from_oslic/N32S12T0425b_improved.h5 is shorter than cut=1000\n",
      "data_from_oslic/N32S12T045b_improved.h5 is shorter than cut=1000\n",
      "data_from_oslic/N32S12T0475b_improved.h5 is shorter than cut=1000\n",
      "data_from_oslic/N32S16T01_improved.h5 is shorter than cut=1000\n",
      "data_from_oslic/N32S16T02_improved.h5 is shorter than cut=1000\n",
      "data_from_oslic/N32S16T0375c_improved.h5 is shorter than cut=1000\n",
      "data_from_oslic/N32S16T0375d_improved.h5 is shorter than cut=1000\n",
      "data_from_oslic/N32S16T0425b_improved.h5 is shorter than cut=1000\n",
      "data_from_oslic/N32S16T045b_improved.h5 is shorter than cut=1000\n",
      "data_from_oslic/N32S16T0475b_improved.h5 is shorter than cut=1000\n",
      "data_from_oslic/N32S24T0375_improved.h5 is shorter than cut=1000\n",
      "data_from_oslic/N32S24T0375b_improved.h5 is shorter than cut=1000\n",
      "data_from_oslic/N32S24T0375c_improved.h5 is shorter than cut=1000\n",
      "data_from_oslic/N32S24T0375d_improved.h5 is shorter than cut=1000\n",
      "data_from_oslic/N32S24T0425b_improved.h5 is shorter than cut=1000\n",
      "data_from_oslic/N32S24T045b_improved.h5 is shorter than cut=1000\n",
      "data_from_oslic/N32S32T01_improved.h5 is shorter than cut=1000\n",
      "data_from_oslic/N32S32T02_improved.h5 is shorter than cut=1000\n",
      "data_from_oslic/N32S32T0375_improved.h5 is shorter than cut=1000\n",
      "data_from_oslic/N32S32T0375b_improved.h5 is shorter than cut=1000\n",
      "data_from_oslic/N32S32T0375c_improved.h5 is shorter than cut=1000\n",
      "data_from_oslic/N32S32T0375d_improved.h5 is shorter than cut=1000\n",
      "data_from_oslic/N32S32T03_improved.h5 is shorter than cut=1000\n",
      "data_from_oslic/N64S8T01_improved.h5 is shorter than cut=1000\n"
     ]
    }
   ],
   "source": [
    "for filename in files:\n",
    "    plt_obs_nice(filename,'Pol',cut=1000,prefix='figures_obs')"
   ]
  },
  {
   "cell_type": "code",
   "execution_count": 16,
   "metadata": {
    "collapsed": true
   },
   "outputs": [
    {
     "name": "stdout",
     "output_type": "stream",
     "text": [
      "data_from_oslic/N128S8T04_improved.h5 is shorter than cut=1000\n",
      "data_from_oslic/N128S8T04b_improved.h5 is shorter than cut=1000\n",
      "data_from_oslic/N12S12T01_improved.h5 is shorter than cut=1000\n",
      "data_from_oslic/N12S16T01_improved.h5 is shorter than cut=1000\n",
      "data_from_oslic/N12S24T01_improved.h5 is shorter than cut=1000\n",
      "data_from_oslic/N12S8T01_improved.h5 is shorter than cut=1000\n",
      "data_from_oslic/N32S12T0425b_improved.h5 is shorter than cut=1000\n",
      "data_from_oslic/N32S12T045b_improved.h5 is shorter than cut=1000\n",
      "data_from_oslic/N32S12T0475b_improved.h5 is shorter than cut=1000\n",
      "data_from_oslic/N32S16T01_improved.h5 is shorter than cut=1000\n",
      "data_from_oslic/N32S16T02_improved.h5 is shorter than cut=1000\n",
      "data_from_oslic/N32S16T0375c_improved.h5 is shorter than cut=1000\n",
      "data_from_oslic/N32S16T0375d_improved.h5 is shorter than cut=1000\n",
      "data_from_oslic/N32S16T0425b_improved.h5 is shorter than cut=1000\n",
      "data_from_oslic/N32S16T045b_improved.h5 is shorter than cut=1000\n",
      "data_from_oslic/N32S16T0475b_improved.h5 is shorter than cut=1000\n",
      "data_from_oslic/N32S24T0375_improved.h5 is shorter than cut=1000\n",
      "data_from_oslic/N32S24T0375b_improved.h5 is shorter than cut=1000\n",
      "data_from_oslic/N32S24T0375c_improved.h5 is shorter than cut=1000\n",
      "data_from_oslic/N32S24T0375d_improved.h5 is shorter than cut=1000\n",
      "data_from_oslic/N32S24T0425b_improved.h5 is shorter than cut=1000\n",
      "data_from_oslic/N32S24T045b_improved.h5 is shorter than cut=1000\n",
      "data_from_oslic/N32S32T01_improved.h5 is shorter than cut=1000\n",
      "data_from_oslic/N32S32T02_improved.h5 is shorter than cut=1000\n",
      "data_from_oslic/N32S32T0375_improved.h5 is shorter than cut=1000\n",
      "data_from_oslic/N32S32T0375b_improved.h5 is shorter than cut=1000\n",
      "data_from_oslic/N32S32T0375c_improved.h5 is shorter than cut=1000\n",
      "data_from_oslic/N32S32T0375d_improved.h5 is shorter than cut=1000\n",
      "data_from_oslic/N32S32T03_improved.h5 is shorter than cut=1000\n",
      "data_from_oslic/N64S8T01_improved.h5 is shorter than cut=1000\n"
     ]
    }
   ],
   "source": [
    "for filename in files:\n",
    "    plt_obs(filename,'cg_it',cut=1000,prefix='figures_obs')"
   ]
  },
  {
   "cell_type": "markdown",
   "metadata": {},
   "source": [
    "### Run analysis for all files"
   ]
  },
  {
   "cell_type": "code",
   "execution_count": 19,
   "metadata": {
    "scrolled": true
   },
   "outputs": [
    {
     "name": "stdout",
     "output_type": "stream",
     "text": [
      "# AutocorrError: Skipping ensemble N=128 L=8 T=0.400 s=a\n",
      "# low stats: data<cut (4236<5000) . Skipping ensemble N=128 L=8 T=0.400 s=b\n",
      "# low stats: data<cut (420<5000) . Skipping ensemble N=12 L=12 T=0.100 s=a\n",
      "12 12 0.650 3.308615917294587 0.0022474394048769965 | 20600 192 a\n",
      "12 12 0.750 3.348452194964965 0.0014628159822959973 | 20000 555 a\n",
      "12 12 0.850 3.3887743420104126 0.0015686246561588033 | 20000 454 a\n",
      "# low stats: data<cut (528<5000) . Skipping ensemble N=12 L=16 T=0.100 s=a\n",
      "12 16 0.650 3.388409522610448 0.0026556082561489903 | 20400 153 a\n",
      "12 16 0.750 3.4229475511852554 0.002551176522393193 | 19200 171 a\n",
      "12 16 0.850 3.460171440204934 0.0026428627974872886 | 20600 176 a\n",
      "# low stats: data<cut (4428<5000) . Skipping ensemble N=12 L=24 T=0.100 s=a\n",
      "12 24 0.650 3.47415550928073 0.004009255641853198 | 18660 46 a\n",
      "12 24 0.750 3.495358246185185 0.0031571993061387804 | 19050 63 a\n",
      "12 24 0.850 3.5233016971663713 0.0030575729744244523 | 20310 114 a\n",
      "12 32 0.650 3.534790695323654 0.004314315323196701 | 16610 57 a\n",
      "12 32 0.750 3.5471894978867544 0.003032633765846316 | 19860 115 a\n",
      "12 32 0.850 3.570735882715274 0.003049753537812689 | 19110 111 a\n",
      "# low stats: data<cut (216<5000) . Skipping ensemble N=12 L=8 T=0.100 s=a\n",
      "12 8 0.650 3.1855168904227273 0.0018359643964743141 | 22000 275 a\n",
      "12 8 0.750 3.2312933564264923 0.0010607560693725651 | 27500 916 a\n",
      "12 8 0.850 3.279854075491715 0.0010070586595221469 | 29700 1142 a\n",
      "16 12 0.500 3.2313602745768355 0.001794192545614643 | 15050 123 a\n",
      "16 12 0.650 3.2943097348069106 0.0012939787885192853 | 17750 328 a\n",
      "16 12 0.600 3.270587303348298 0.0010198654932963016 | 16050 486 a\n",
      "16 12 0.750 3.3384873299979927 0.001240827135404317 | 19980 376 a\n",
      "16 12 0.700 3.314971145405714 0.000998465335900057 | 17500 500 a\n",
      "16 12 0.850 3.3839222261976283 0.001327507499859597 | 18980 345 a\n",
      "16 12 0.800 3.360097703923077 0.0009478520275737572 | 19500 650 a\n",
      "16 12 0.900 3.404599788593087 0.0011103700162514818 | 16500 485 a\n",
      "16 12 1.000 3.4477342665411284 0.0011935786401157987 | 16750 492 a\n",
      "# AutocorrError: Skipping ensemble N=16 L=16 T=0.400 s=a\n",
      "# AutocorrError: Skipping ensemble N=16 L=16 T=0.400 s=b\n",
      "# AutocorrError: Skipping ensemble N=16 L=16 T=0.400 s=c\n",
      "# AutocorrError: Skipping ensemble N=16 L=16 T=0.400 s=d\n",
      "16 16 0.500 3.3091152598064486 0.0012208014201158573 | 22172 273 a\n",
      "16 16 0.650 3.368326478201272 0.0014219567998322667 | 17320 247 a\n",
      "16 16 0.600 3.3480689915091215 0.00119568897937949 | 15100 335 a\n",
      "16 16 0.750 3.4105025528985506 0.001426428195329307 | 19800 286 a\n",
      "16 16 0.700 3.389581392080899 0.001113587453114844 | 18186 422 a\n",
      "16 16 0.850 3.450127496788119 0.0014696649266996934 | 19470 319 a\n",
      "16 16 0.800 3.430036053954024 0.0011458303587672256 | 17420 435 a\n",
      "16 16 0.900 3.4720650760984286 0.0012854941637740454 | 17460 379 a\n",
      "16 16 1.000 3.511431871309523 0.0013470650346998675 | 17640 360 a\n",
      "# AutocorrError: Skipping ensemble N=16 L=24 T=0.425 s=a\n",
      "# AutocorrError: Skipping ensemble N=16 L=24 T=0.450 s=a\n",
      "# AutocorrError: Skipping ensemble N=16 L=24 T=0.475 s=a\n",
      "16 24 0.650 3.457457395420792 0.002262555349213459 | 15430 101 a\n",
      "16 24 0.600 3.441842875283934 0.0015451995082976428 | 14496 190 a\n",
      "16 24 0.750 3.4914891431532595 0.002263841234126519 | 15440 83 a\n",
      "16 24 0.700 3.470463922872878 0.0014310158781108064 | 17804 287 a\n",
      "16 24 0.850 3.5256507003939292 0.002161728041300501 | 15640 95 a\n",
      "16 24 0.800 3.506398733710467 0.0016319933675961109 | 15120 229 a\n",
      "16 24 0.900 3.539856580753512 0.0015330348682074738 | 15674 290 a\n",
      "16 24 1.000 3.572610802672498 0.0015383639348915646 | 20588 245 a\n",
      "# AutocorrError: Skipping ensemble N=16 L=32 T=0.425 s=a\n",
      "# AutocorrError: Skipping ensemble N=16 L=32 T=0.450 s=a\n",
      "# AutocorrError: Skipping ensemble N=16 L=32 T=0.475 s=a\n",
      "# AutocorrError: Skipping ensemble N=16 L=32 T=0.400 s=a\n",
      "16 32 0.500 3.4732071757093252 0.0016397533526575838 | 20200 192 a\n",
      "16 32 0.650 3.506555723217147 0.0024203874796930843 | 15070 72 a\n",
      "16 32 0.600 3.4943454184809317 0.0016323642435395183 | 15516 221 a\n",
      "16 32 0.750 3.529243260553564 0.002370913429211008 | 15090 81 a\n",
      "16 32 0.700 3.518547221460341 0.00153927088065204 | 16220 228 a\n",
      "16 32 0.850 3.556194564862178 0.002425103965208754 | 15230 98 a\n",
      "16 32 0.800 3.545340542641444 0.0016789657919641016 | 17306 258 a\n",
      "16 32 0.900 3.573405614346591 0.00202827495096158 | 10600 176 a\n",
      "16 32 1.000 3.6059823265957447 0.0022885410316456326 | 11554 122 a\n",
      "16 48 1.000 3.645827698143116 0.002345284235523076 | 15471 161 a\n",
      "16 64 1.000 3.6694154777292294 0.0029472564220886562 | 15119 95 a\n",
      "# AutocorrError: Skipping ensemble N=16 L=8 T=0.400 s=a\n",
      "# AutocorrError: Skipping ensemble N=16 L=8 T=0.500 s=a\n",
      "# AutocorrError: Skipping ensemble N=16 L=8 T=0.500 s=b\n",
      "16 8 0.500 3.113188319385965 0.0031969904066556287 | 17100 95 c\n",
      "16 8 0.650 3.1664743840920884 0.0009669694567978738 | 21200 517 a\n",
      "16 8 0.600 3.1410602045439955 0.0006805934767195056 | 24920 1038 a\n",
      "16 8 0.750 3.2191354340382055 0.0008680025422398127 | 24000 666 a\n",
      "16 8 0.700 3.1941070163711545 0.0006015921017995571 | 28540 1502 a\n",
      "16 8 0.850 3.2732024854112556 0.001001343350849122 | 20800 594 a\n",
      "16 8 0.800 3.2469198836125037 0.0008423641548284709 | 15170 892 a\n",
      "16 8 0.900 3.299655814628049 0.0008883534321655885 | 16400 820 a\n",
      "16 8 1.000 3.3511000937229443 0.0010165823053467683 | 16640 693 a\n",
      "24 12 0.650 3.2843870496606336 0.0006556289667444751 | 20340 442 a\n",
      "24 12 0.600 3.260605887464369 0.0009318051812056428 | 15440 227 a\n",
      "24 12 0.750 3.333052444898325 0.0007507083474142313 | 16740 380 a\n",
      "24 12 0.700 3.3092065402506265 0.0008430363388609776 | 16006 285 a\n",
      "24 12 0.850 3.3779099939890704 0.0009166174167562941 | 15390 366 a\n",
      "24 12 0.800 3.3555346887405544 0.0008113356605790677 | 19864 397 a\n",
      "24 12 0.900 3.4023959044832517 0.0008983977092586027 | 19616 384 a\n",
      "24 12 1.000 3.44859425059538 0.0010439954518228682 | 16796 323 a\n",
      "24 16 0.425 3.256053721379356 0.0019264862445186183 | 15424 49 a\n",
      "24 16 0.425 3.256020736918033 0.0019460634841910191 | 15340 50 b\n",
      "24 16 0.450 3.2653716977850165 0.0019100791127864818 | 14094 45 a\n",
      "24 16 0.450 3.2651791806884836 0.0020421772469819185 | 13254 41 b\n",
      "24 16 0.475 3.2755526411089106 0.0012264227297254914 | 20224 101 a\n",
      "24 16 0.475 3.2752711676914297 0.0014628340986272436 | 15892 68 b\n",
      "24 16 0.400 3.250051813586814 0.0015249386360397462 | 15374 94 a\n",
      "24 16 0.500 3.288721884091476 0.0005865727468267606 | 16068 472 a\n",
      "24 16 0.650 3.3581758198318044 0.0007079513571098921 | 19630 436 a\n",
      "24 16 0.600 3.3346469247403383 0.0007872384866232999 | 16580 276 a\n",
      "24 16 0.750 3.400429486538461 0.0008453195792965113 | 15810 304 a\n",
      "24 16 0.700 3.3784664855159754 0.0007507812880738527 | 17450 447 a\n",
      "24 16 0.850 3.443061494718247 0.0007841170938903256 | 22360 430 a\n",
      "24 16 0.800 3.4232693760107815 0.0009178135977120091 | 16720 315 a\n",
      "24 16 0.900 3.4659191397206572 0.0008865277816730941 | 20440 385 a\n",
      "24 16 1.000 3.5087827609395656 0.001088320534376661 | 16654 287 a\n",
      "24 24 0.425 3.359000668890224 0.0016937566927742588 | 10120 64 a\n",
      "24 24 0.425 3.358553686687506 0.0016034879176050755 | 10938 73 b\n",
      "24 24 0.450 3.3699141346909087 0.0016262745176268772 | 12456 75 a\n",
      "24 24 0.450 3.3702229993183366 0.0017427690999554885 | 10400 63 b\n",
      "24 24 0.475 3.3801995805952387 0.0015776715899966647 | 11870 80 a\n",
      "24 24 0.475 3.3803246714037707 0.0015374600959214605 | 12210 84 b\n",
      "24 24 0.400 3.3481934851255892 0.0020181280037649685 | 5116 49 a\n",
      "24 24 0.500 3.389604402855463 0.000969565393840801 | 8544 185 a\n",
      "24 24 0.500 3.385822461366954 0.0012060538080154938 | 7560 137 b\n",
      "24 24 0.500 3.38891017096481 0.0010968847684931675 | 7712 151 c\n",
      "24 24 0.500 3.387269066785244 0.0010613068410789317 | 7640 138 d\n",
      "24 24 0.650 3.4465722617711556 0.0009258158350502901 | 15520 304 a\n",
      "24 24 0.600 3.42546344800115 0.001028334413221606 | 10432 171 a\n",
      "24 24 0.600 3.4282572130641054 0.0009426130613616072 | 8668 298 b\n",
      "24 24 0.600 3.427293821527093 0.0009709914255680687 | 10186 203 c\n",
      "24 24 0.600 3.4283875174967613 0.0010752279368033354 | 8542 149 d\n",
      "24 24 0.750 3.482674464636265 0.000942036698498183 | 18450 307 a\n",
      "24 24 0.700 3.4645147817201947 0.0010596012713030112 | 13760 199 a\n",
      "24 24 0.700 3.46389048739253 0.0010484917591778349 | 14216 258 b\n",
      "24 24 0.700 3.4658131485706676 0.0013293442765888554 | 11304 128 c\n",
      "24 24 0.700 3.4636886832852327 0.0012803674669792891 | 8368 154 d\n",
      "24 24 0.850 3.5172303742857145 0.0011222744997937543 | 15300 218 a\n",
      "24 24 0.800 3.4974428795638386 0.0009796571853017137 | 15468 303 a\n",
      "24 24 0.900 3.5338429247535803 0.0011115839460205355 | 16156 283 a\n",
      "24 24 1.000 3.571065287436154 0.0012236541154720072 | 18012 228 a\n"
     ]
    },
    {
     "name": "stdout",
     "output_type": "stream",
     "text": [
      "24 32 0.425 3.419805637037037 0.0016866718305555968 | 15054 54 a\n",
      "24 32 0.425 3.419853867496946 0.0017530512675712543 | 14922 53 b\n",
      "# AutocorrError: Skipping ensemble N=24 L=32 T=0.450 s=a\n",
      "# AutocorrError: Skipping ensemble N=24 L=32 T=0.450 s=b\n",
      "# AutocorrError: Skipping ensemble N=24 L=32 T=0.475 s=a\n",
      "24 32 0.475 3.4370871250778086 0.001705500408121238 | 12926 51 b\n",
      "24 32 0.400 3.410640089233177 0.001292477490766505 | 15984 71 a\n",
      "24 32 0.500 3.4460786632412526 0.001075784531538797 | 16372 181 a\n",
      "24 32 0.650 3.4920211969880306 0.0010307345680239909 | 15410 244 a\n",
      "24 32 0.600 3.4780272388914026 0.001085487634477203 | 17742 208 a\n",
      "24 32 0.750 3.520883488318754 0.0010332735538497347 | 18750 218 a\n",
      "24 32 0.700 3.5075176034195645 0.001150468303013701 | 19164 217 a\n",
      "24 32 0.850 3.5524753445535713 0.0012853074842199572 | 16840 200 a\n",
      "24 32 0.800 3.537125338518897 0.0012335230711879718 | 19586 178 a\n",
      "24 32 0.900 3.566156859457167 0.0015984227270093951 | 17780 131 a\n",
      "24 32 1.000 3.599992994444444 0.001639136490824436 | 15382 153 a\n",
      "# AutocorrError: Skipping ensemble N=24 L=8 T=0.400 s=a\n",
      "24 8 0.500 3.077017112762816 0.0009065279757904608 | 16950 249 a\n",
      "24 8 0.650 3.1579466853115052 0.0005557143547936262 | 17600 733 a\n",
      "24 8 0.600 3.1288858839097746 0.0005774851767572636 | 19970 570 a\n",
      "24 8 0.750 3.2145975430855804 0.0005288102015608668 | 21330 853 a\n",
      "24 8 0.700 3.1860125082694153 0.0006354179793061352 | 16700 596 a\n",
      "24 8 0.850 3.269616251601315 0.000552091084940701 | 22830 913 a\n",
      "24 8 0.800 3.2421664598621067 0.000684479805756179 | 18150 518 a\n",
      "24 8 0.900 3.2962890332414063 0.0006455572475958463 | 20330 781 a\n",
      "24 8 1.000 3.3488349659141003 0.0008157751781548336 | 18604 477 a\n",
      "32 12 0.425 3.169734143024501 0.0009596666417513967 | 15066 97 a\n",
      "# low stats: data<cut (120<5000) . Skipping ensemble N=32 L=12 T=0.425 s=b\n",
      "32 12 0.450 3.1772749198589545 0.0007481852360763161 | 16876 143 a\n",
      "# low stats: data<cut (120<5000) . Skipping ensemble N=32 L=12 T=0.450 s=b\n",
      "32 12 0.475 3.1882791895576585 0.0005567428606480877 | 18216 284 a\n",
      "# low stats: data<cut (120<5000) . Skipping ensemble N=32 L=12 T=0.475 s=b\n",
      "32 12 0.400 3.166079202710311 0.0015836750868884835 | 15330 65 a\n",
      "32 12 0.500 3.201742269651926 0.0005372853369497453 | 16148 351 a\n",
      "# low stats: data<cut (1944<5000) . Skipping ensemble N=32 L=16 T=0.100 s=a\n",
      "# low stats: data<cut (1092<5000) . Skipping ensemble N=32 L=16 T=0.200 s=a\n",
      "# AutocorrError: Skipping ensemble N=32 L=16 T=0.325 s=a\n",
      "# AutocorrError: Skipping ensemble N=32 L=16 T=0.350 s=a\n",
      "32 16 0.375 3.2347452168369406 0.0016580237781101974 | 14950 43 a\n",
      "# low stats: data<cut (72<5000) . Skipping ensemble N=32 L=16 T=0.375 s=c\n",
      "# low stats: data<cut (72<5000) . Skipping ensemble N=32 L=16 T=0.375 s=d\n",
      "# AutocorrError: Skipping ensemble N=32 L=16 T=0.300 s=a\n",
      "# AutocorrError: Skipping ensemble N=32 L=16 T=0.300 s=b\n",
      "32 16 0.425 3.246195318999999 0.0007114068225766673 | 15744 157 a\n",
      "# low stats: data<cut (72<5000) . Skipping ensemble N=32 L=16 T=0.425 s=b\n",
      "32 16 0.450 3.257937580525724 0.0006571401485108038 | 16092 176 a\n",
      "# low stats: data<cut (96<5000) . Skipping ensemble N=32 L=16 T=0.450 s=b\n",
      "32 16 0.475 3.2699487056288814 0.0006212971483862953 | 15484 224 a\n",
      "# low stats: data<cut (72<5000) . Skipping ensemble N=32 L=16 T=0.475 s=b\n",
      "32 16 0.400 3.2372373535298107 0.0011104966727550412 | 14999 60 a\n",
      "32 16 0.500 3.2820006364456233 0.0005922804506298711 | 15084 260 a\n",
      "32 16 0.600 3.3305858537074617 0.0005448380779992819 | 17290 367 a\n",
      "32 16 0.700 3.376589185921856 0.0006594664611851216 | 16428 315 a\n",
      "32 16 0.800 3.4195358806845704 0.0012456131255697924 | 18994 90 a\n",
      "32 16 0.900 3.461226194281796 0.0014851033116380797 | 19140 71 a\n",
      "32 16 1.000 3.505989012165748 0.0013874715287554803 | 19694 71 a\n",
      "# low stats: data<cut (24<5000) . Skipping ensemble N=32 L=24 T=0.375 s=a\n",
      "# low stats: data<cut (1056<5000) . Skipping ensemble N=32 L=24 T=0.375 s=b\n",
      "# low stats: data<cut (48<5000) . Skipping ensemble N=32 L=24 T=0.375 s=c\n",
      "# low stats: data<cut (24<5000) . Skipping ensemble N=32 L=24 T=0.375 s=d\n",
      "# AutocorrError: Skipping ensemble N=32 L=24 T=0.425 s=a\n",
      "# low stats: data<cut (3360<5000) . Skipping ensemble N=32 L=24 T=0.425 s=b\n",
      "# AutocorrError: Skipping ensemble N=32 L=24 T=0.450 s=a\n",
      "# low stats: data<cut (48<5000) . Skipping ensemble N=32 L=24 T=0.450 s=b\n",
      "32 24 0.475 3.3726363278943174 0.0012658615200282866 | 15150 56 a\n",
      "# AutocorrError: Skipping ensemble N=32 L=24 T=0.400 s=a\n",
      "32 24 0.500 3.3827622095799867 0.0015177769021130195 | 12108 48 a\n",
      "# low stats: data<cut (4272<5000) . Skipping ensemble N=32 L=32 T=0.100 s=a\n",
      "# low stats: data<cut (4272<5000) . Skipping ensemble N=32 L=32 T=0.200 s=a\n",
      "# low stats: data<cut (72<5000) . Skipping ensemble N=32 L=32 T=0.375 s=a\n",
      "# low stats: data<cut (48<5000) . Skipping ensemble N=32 L=32 T=0.375 s=b\n",
      "# low stats: data<cut (96<5000) . Skipping ensemble N=32 L=32 T=0.375 s=c\n",
      "# low stats: data<cut (48<5000) . Skipping ensemble N=32 L=32 T=0.375 s=d\n",
      "# AutocorrError: Skipping ensemble N=32 L=32 T=0.300 s=a\n",
      "# AutocorrError: Skipping ensemble N=32 L=32 T=0.425 s=a\n",
      "32 32 0.450 3.420134925429912 0.0010123189907652343 | 15470 76 a\n",
      "32 32 0.475 3.4292180869960216 0.000895130640723546 | 15116 116 a\n",
      "32 32 0.400 3.401214151219334 0.0008300595552592974 | 13776 128 a\n",
      "32 32 0.500 3.4402255302245575 0.0009425189732491718 | 10488 115 a\n",
      "# AutocorrError: Skipping ensemble N=32 L=8 T=0.400 s=a\n",
      "32 8 0.500 3.071140572180451 0.0008094541720323812 | 12262 161 a\n",
      "32 8 0.600 3.1246219392202135 0.0008722441291696223 | 15216 143 a\n",
      "32 8 0.700 3.1839601279074365 0.0008816885915418515 | 15198 192 a\n",
      "32 8 0.800 3.2395893164190928 0.000867119182061487 | 15212 187 a\n",
      "32 8 0.900 3.2941880993272656 0.0010588003644915974 | 15184 133 a\n",
      "32 8 1.000 3.3476087114342103 0.0009404949137686394 | 15260 200 a\n",
      "# AutocorrError: Skipping ensemble N=64 L=16 T=0.475 s=a\n",
      "# AutocorrError: Skipping ensemble N=64 L=16 T=0.500 s=a\n",
      "# low stats: data<cut (96<5000) . Skipping ensemble N=64 L=8 T=0.100 s=a\n",
      "# low stats: data<cut (2784<5000) . Skipping ensemble N=64 L=8 T=0.200 s=a\n",
      "# AutocorrError: Skipping ensemble N=64 L=8 T=0.300 s=a\n",
      "# AutocorrError: Skipping ensemble N=64 L=8 T=0.400 s=a\n",
      "# AutocorrError: Skipping ensemble N=64 L=8 T=0.400 s=b\n"
     ]
    }
   ],
   "source": [
    "for filename in files:\n",
    "#     do_analysis(filename,'E')\n",
    "#    do_analysis_cutoff(filename,'Pol',cut=5000)\n",
    "    do_analysis_cutoff(filename,'trx',cut=5000)"
   ]
  },
  {
   "cell_type": "code",
   "execution_count": 24,
   "metadata": {
    "collapsed": true
   },
   "outputs": [
    {
     "name": "stdout",
     "output_type": "stream",
     "text": [
      "# Skipping ensemble N=128 L=8 T=0.400 s=a\n",
      "# Skipping ensemble N=128 L=8 T=0.400 s=b\n",
      "# Skipping ensemble N=12 L=12 T=0.100 s=a\n",
      "12 12 0.650 378.9144081632653 0.4629871616540294 | 24591 245 a\n",
      "12 12 0.750 332.58313807531385 0.37329908355295083 | 23968 239 a\n",
      "12 12 0.850 299.730460251046 0.36126486518874945 | 23946 239 a\n",
      "# low stats: data<cut (804<1000) . Skipping ensemble N=12 L=16 T=0.100 s=a\n",
      "12 16 0.650 502.33197530864203 0.6841023964823043 | 24393 243 a\n",
      "12 16 0.750 436.9891341991342 0.5331121186746275 | 23194 231 a\n",
      "12 16 0.850 393.35510204081635 0.41349542643091397 | 24587 245 a\n",
      "# low stats: data<cut (24<1000) . Skipping ensemble N=12 L=24 T=0.100 s=a\n",
      "12 24 0.650 744.9963274336283 1.2220463187538868 | 22651 226 a\n",
      "12 24 0.750 649.863347826087 0.8795886553881864 | 23036 230 a\n",
      "12 24 0.850 585.2659917355372 0.6552228840097575 | 24294 242 a\n",
      "12 32 0.650 979.1254634146343 1.6122336254652796 | 20598 205 a\n",
      "12 32 0.750 855.4503781512606 1.1484930260783521 | 23844 238 a\n",
      "12 32 0.850 771.144347826087 0.9099453197408192 | 23080 230 a\n",
      "# low stats: data<cut (156<1000) . Skipping ensemble N=12 L=8 T=0.100 s=a\n",
      "12 8 0.650 253.3677992277992 0.323137422922677 | 25999 259 a\n",
      "12 8 0.750 223.8856687898089 0.2622410824131619 | 31484 314 a\n",
      "12 8 0.850 203.4795535714286 0.33237501797572994 | 33673 336 a\n",
      "16 12 0.500 533.1483684210525 0.6219669806729156 | 19007 190 a\n",
      "16 12 0.650 386.38387096774187 0.3753183631188585 | 21723 217 a\n",
      "16 12 0.600 423.84231155778895 0.4181220555038211 | 19966 199 a\n",
      "16 12 0.750 336.9405020920502 0.31938580468594174 | 23934 239 a\n",
      "16 12 0.700 362.61183098591545 0.5131079795435265 | 21349 213 a\n",
      "16 12 0.850 303.7175982532751 0.33883941120319716 | 22931 229 a\n",
      "16 12 0.800 323.3495689655173 0.49289640194642775 | 23287 232 a\n",
      "16 12 0.900 297.2990099009901 0.7493285855577065 | 20219 202 a\n",
      "16 12 1.000 278.12270935960595 0.7133532219619272 | 20385 203 a\n",
      "16 16 0.400 901.128 21.157271733378103 | 524 5 a\n",
      "16 16 0.400 1026.5157352941178 2.2885253880462 | 27260 272 b\n",
      "16 16 0.400 1028.6810702341138 2.149318162235726 | 29960 299 c\n",
      "16 16 0.400 1025.142868852459 2.415327965486686 | 24470 244 d\n",
      "16 16 0.500 713.6908846153847 0.7304622705157459 | 26099 260 a\n",
      "16 16 0.650 512.5382547169812 0.5160209211811019 | 21294 212 a\n",
      "16 16 0.600 561.932380952381 0.5304135250543472 | 18999 189 a\n",
      "16 16 0.750 445.3454430379747 0.37826120271030955 | 23755 237 a\n",
      "16 16 0.700 478.17663636363636 0.47916615139074425 | 22028 220 a\n",
      "16 16 0.850 401.0141452991453 0.3476434520303364 | 23403 234 a\n",
      "16 16 0.800 425.58639810426547 0.5088550898336514 | 21196 211 a\n",
      "16 16 0.900 391.11947867298574 0.6531650603736743 | 21138 211 a\n",
      "16 16 1.000 363.6715566037736 0.6677486541301124 | 21261 212 a\n",
      "16 24 0.425 1388.6059685863875 4.722112244849111 | 19189 191 a\n",
      "16 24 0.450 1250.5549738219895 3.7240799795608557 | 19125 191 a\n",
      "16 24 0.475 1141.118418367347 2.977045138454506 | 19637 196 a\n",
      "16 24 0.650 758.3199484536083 0.9142751566429748 | 19400 194 a\n",
      "16 24 0.600 832.6852173913045 0.7564600485393551 | 18407 184 a\n",
      "16 24 0.750 659.7192268041237 0.6677317754023229 | 19410 194 a\n",
      "16 24 0.700 708.5280092592592 0.6583277081462133 | 21616 216 a\n",
      "16 24 0.850 593.9838974358973 0.6083298232953497 | 19578 195 a\n",
      "16 24 0.800 628.5560106382978 0.6129371599816047 | 18894 188 a\n",
      "16 24 0.900 576.2986010362695 0.7223412697924473 | 19368 193 a\n",
      "16 24 1.000 538.97025 0.7751609217450881 | 24070 240 a\n",
      "16 32 0.425 1823.761329113924 5.4711847963365665 | 15838 158 a\n",
      "16 32 0.450 1671.930837696335 5.464477130138085 | 19105 191 a\n",
      "16 32 0.475 1524.1500518134712 4.609212890754134 | 19378 193 a\n",
      "16 32 0.400 1901.8875471698111 5.015128937127143 | 5386 53 a\n",
      "16 32 0.500 1400.1272500000002 1.9636854442718517 | 24093 240 a\n",
      "16 32 0.650 1002.3502105263157 1.307120732444028 | 19041 190 a\n",
      "16 32 0.600 1098.0080829015544 1.2976267281174543 | 19366 193 a\n",
      "16 32 0.750 872.2123684210525 1.0204797366505711 | 19044 190 a\n",
      "16 32 0.700 932.2644 0.9494082831953805 | 20074 200 a\n",
      "16 32 0.850 785.804607329843 0.8222472925213279 | 19150 191 a\n",
      "16 32 0.800 830.0892344497609 0.9077112532473147 | 20982 209 a\n",
      "16 32 0.900 759.4089510489512 0.8488027756905707 | 14323 143 a\n",
      "16 32 1.000 708.6690728476821 0.966988506694942 | 15184 151 a\n",
      "16 48 1.000 1035.774607329843 0.8781501252556381 | 19188 191 a\n",
      "16 64 1.000 1368.299732620321 1.2430970020935161 | 18724 187 a\n",
      "16 8 0.400 374.4144444444444 11.110652002860563 | 918 9 a\n",
      "16 8 0.500 351.9858139534884 1.145610770783431 | 4383 43 a\n",
      "16 8 0.500 352.9992672413793 0.4381202197811757 | 23254 232 b\n",
      "16 8 0.500 351.93895238095234 0.4225388326160888 | 21070 210 c\n",
      "16 8 0.650 260.9010358565737 0.298018048774825 | 25189 251 a\n",
      "16 8 0.600 284.8459722222222 0.3042292975175136 | 28826 288 a\n",
      "16 8 0.750 228.18827956989247 0.2532578183235854 | 27980 279 a\n",
      "16 8 0.700 244.99662538699693 0.3324039541122889 | 32383 323 a\n",
      "16 8 0.850 206.47044534412953 0.2861671134620899 | 24769 247 a\n",
      "16 8 0.800 220.91373684210527 0.6194940891609227 | 19012 190 a\n",
      "16 8 0.900 203.67492537313436 0.6095745603469501 | 20189 201 a\n",
      "16 8 1.000 192.26128078817737 0.7860324859787482 | 20354 203 a\n",
      "24 12 0.650 397.22095435684645 0.45331816478619896 | 24154 241 a\n",
      "24 12 0.600 430.4900515463918 0.3470874250260841 | 19402 194 a\n",
      "24 12 0.750 348.2899512195122 0.501000524222243 | 20508 205 a\n",
      "24 12 0.700 366.2639698492462 0.34017293753190087 | 19925 199 a\n",
      "24 12 0.850 318.4365263157895 0.7856725317038373 | 19072 190 a\n",
      "24 12 0.800 326.1189029535865 0.3504502389082161 | 23753 237 a\n",
      "24 12 0.900 297.3702136752137 0.36677143447040317 | 23467 234 a\n",
      "24 12 1.000 279.0350731707317 0.569523647952998 | 20594 205 a\n",
      "24 16 0.425 973.883505154639 2.025581747836146 | 19413 194 a\n",
      "24 16 0.425 974.1161139896374 2.0227522118117514 | 19329 193 b\n",
      "24 16 0.450 872.556 1.6960885986787073 | 18083 180 a\n",
      "24 16 0.450 872.2745930232558 1.7561391300564586 | 17243 172 b\n",
      "24 16 0.475 794.3009917355372 1.1718086297789947 | 24205 242 a\n",
      "24 16 0.475 793.8510606060606 1.3203178548225831 | 19876 198 b\n",
      "24 16 0.400 1112.7775392670158 1.5172248169188032 | 19167 191 a\n",
      "24 16 0.500 739.1265989847716 0.646373308944773 | 19703 197 a\n",
      "24 16 0.650 525.0352136752136 0.5060241746444974 | 23441 234 a\n",
      "24 16 0.600 573.297205882353 0.5596553472731876 | 20409 204 a\n",
      "24 16 0.750 459.6409743589743 0.7226657371492636 | 19544 195 a\n",
      "24 16 0.700 487.7614691943128 0.5677500221940146 | 21174 211 a\n",
      "24 16 0.850 415.0247286821706 0.5726084109312497 | 25874 258 a\n",
      "24 16 0.800 434.5968137254901 0.6865745392637593 | 20409 204 a\n",
      "24 16 0.900 401.514537815126 0.8126452231160517 | 23895 238 a\n",
      "24 16 1.000 375.2878999999999 0.9089804387059163 | 20059 200 a\n",
      "24 24 0.425 1475.1129078014185 3.526249785367659 | 14114 141 a\n",
      "24 24 0.425 1475.071946308725 3.386761514743594 | 14931 149 b\n",
      "24 24 0.450 1310.5293902439023 2.6603168430931063 | 16449 164 a\n",
      "24 24 0.450 1313.6136363636363 2.7297173650768602 | 14393 143 b\n",
      "24 24 0.475 1187.4406329113924 2.119172391621065 | 15862 158 a\n",
      "24 24 0.475 1187.0868518518516 2.1024390769260863 | 16202 162 b\n",
      "24 24 0.400 1684.838666666667 4.837843040952124 | 9056 90 a\n",
      "24 24 0.500 1092.8287096774193 1.2494415035768287 | 12409 124 a\n",
      "24 24 0.500 1096.1914912280702 1.561147535850718 | 11437 114 b\n",
      "24 24 0.500 1091.4558260869564 1.315392600518495 | 11593 115 c\n",
      "24 24 0.500 1095.6959130434782 1.3482047148164642 | 11522 115 d\n",
      "24 24 0.650 776.5701036269428 0.6705085114162582 | 19339 193 a\n",
      "24 24 0.600 854.0787943262411 0.8401118214819419 | 14141 141 a\n",
      "24 24 0.600 852.7379032258066 0.9440354772118299 | 12414 124 b\n",
      "24 24 0.600 855.4295683453238 1.0017611522948597 | 13916 139 c\n",
      "24 24 0.600 855.6786885245903 1.0237669935942786 | 12278 122 d\n",
      "24 24 0.750 677.5797737556561 0.6372417626929818 | 22122 221 a\n",
      "24 24 0.700 721.7792000000001 0.6670090826539451 | 17546 175 a\n",
      "24 24 0.700 720.7615642458101 0.6441145021181646 | 17988 179 b\n",
      "24 24 0.700 722.0335099337748 0.7741319462158706 | 15116 151 c\n",
      "24 24 0.700 721.2501639344263 0.7972284696256136 | 12224 122 d\n",
      "24 24 0.850 613.4103174603175 0.6804152077033189 | 18915 189 a\n",
      "24 24 0.800 651.1025668449199 0.9188912567920491 | 18751 187 a\n",
      "24 24 0.900 601.5857068062827 1.098993916551461 | 19177 191 a\n",
      "24 24 1.000 540.3468981481482 0.6140126443216095 | 21679 216 a\n",
      "24 32 0.425 1900.9485483870965 2.898926722194766 | 12436 124 a\n",
      "24 32 0.425 1900.7423577235772 2.9134772864435594 | 12369 123 b\n",
      "24 32 0.450 1739.3838 4.105229936632322 | 15048 150 a\n",
      "24 32 0.450 1740.852323943662 4.202173600685541 | 14228 142 b\n",
      "24 32 0.475 1573.7326241134751 3.380437045179456 | 14175 141 a\n",
      "24 32 0.475 1571.1724852071006 2.998908682824062 | 16907 169 b\n",
      "# Skipping ensemble N=24 L=32 T=0.400 s=a\n",
      "24 32 0.500 1439.3646305418717 2.0417574198067427 | 20320 203 a\n"
     ]
    },
    {
     "name": "stdout",
     "output_type": "stream",
     "text": [
      "24 32 0.650 1022.5955497382199 0.85227456801847 | 19197 191 a\n",
      "24 32 0.600 1116.2305555555556 1.0639088490267823 | 21663 216 a\n",
      "24 32 0.750 889.968206278027 0.6993097932557912 | 22367 223 a\n",
      "24 32 0.700 945.0090869565219 0.7664998505871422 | 23058 230 a\n",
      "24 32 0.850 806.0151231527094 0.7634906680770583 | 20339 203 a\n",
      "24 32 0.800 838.935407725322 0.6096512151868966 | 23385 233 a\n",
      "24 32 0.900 766.6919534883722 0.6193623647557401 | 21573 215 a\n",
      "24 32 1.000 713.14 0.7893849807218654 | 19100 191 a\n",
      "24 8 0.400 452.39692307692314 5.8951521939706835 | 1325 13 a\n",
      "24 8 0.500 362.03125 0.39301152558282487 | 20899 208 a\n",
      "24 8 0.650 269.4943925233645 0.5381348434825834 | 21472 214 a\n",
      "24 8 0.600 289.94894957983195 0.3314698515794309 | 23893 238 a\n",
      "24 8 0.750 237.98191235059764 0.5450528705888471 | 25155 251 a\n",
      "24 8 0.700 248.48063414634146 0.38024239795572057 | 20576 205 a\n",
      "24 8 0.850 218.81132075471697 0.731685407050885 | 26578 265 a\n",
      "24 8 0.800 223.073698630137 0.6477291884452718 | 21965 219 a\n",
      "24 8 0.900 205.91754166666664 0.8715364889408053 | 24038 240 a\n",
      "24 8 1.000 193.15342342342342 0.988048943627189 | 22252 222 a\n",
      "32 12 0.425 731.9877777777778 0.8021474367288971 | 18988 189 a\n",
      "# low stats: data<cut (120<1000) . Skipping ensemble N=32 L=12 T=0.425 s=b\n",
      "32 12 0.450 659.6884541062802 0.6023452826744615 | 20786 207 a\n",
      "# low stats: data<cut (120<1000) . Skipping ensemble N=32 L=12 T=0.450 s=b\n",
      "32 12 0.475 602.3718099547511 0.5464424905772272 | 22101 221 a\n",
      "# low stats: data<cut (120<1000) . Skipping ensemble N=32 L=12 T=0.475 s=b\n",
      "32 12 0.400 825.3266666666667 1.1170435327141857 | 19256 192 a\n",
      "32 12 0.500 555.11215 0.5001377454137009 | 20032 200 a\n",
      "# low stats: data<cut (48<1000) . Skipping ensemble N=32 L=16 T=0.100 s=a\n",
      "# low stats: data<cut (156<1000) . Skipping ensemble N=32 L=16 T=0.200 s=a\n",
      "32 16 0.325 1611.9913043478261 22.616627632865278 | 2371 23 a\n",
      "32 16 0.350 1553.0837634408604 5.688629362385281 | 18648 186 a\n",
      "32 16 0.375 1324.3184574468085 2.5892016378516565 | 18884 188 a\n",
      "# low stats: data<cut (72<1000) . Skipping ensemble N=32 L=16 T=0.375 s=c\n",
      "# low stats: data<cut (72<1000) . Skipping ensemble N=32 L=16 T=0.375 s=d\n",
      "32 16 0.300 1162.4807142857142 20.522158543634905 | 1412 14 a\n",
      "# Skipping ensemble N=32 L=16 T=0.300 s=b\n",
      "32 16 0.425 995.2247959183675 1.193719753349842 | 19655 196 a\n",
      "# low stats: data<cut (72<1000) . Skipping ensemble N=32 L=16 T=0.425 s=b\n",
      "32 16 0.450 888.4806030150754 0.9459530641136628 | 19984 199 a\n",
      "# low stats: data<cut (96<1000) . Skipping ensemble N=32 L=16 T=0.450 s=b\n",
      "32 16 0.475 806.5866839378238 0.7910139509675269 | 19355 193 a\n",
      "# low stats: data<cut (72<1000) . Skipping ensemble N=32 L=16 T=0.475 s=b\n",
      "32 16 0.400 1136.4399999999998 1.6806065248002742 | 18931 189 a\n",
      "32 16 0.500 742.7279894179894 0.6726418596534058 | 18950 189 a\n",
      "32 16 0.600 579.2153333333333 0.46075245631630835 | 21090 210 a\n",
      "32 16 0.700 492.52125 0.5197200108592127 | 20090 200 a\n",
      "32 16 0.800 429.64449781659386 0.3047536923082534 | 22962 229 a\n",
      "32 16 0.900 391.33 0.2962757043796723 | 23087 230 a\n",
      "32 16 1.000 362.895466101695 0.24728272089281694 | 23633 236 a\n",
      "# low stats: data<cut (24<1000) . Skipping ensemble N=32 L=24 T=0.375 s=a\n",
      "# low stats: data<cut (696<1000) . Skipping ensemble N=32 L=24 T=0.375 s=b\n",
      "# low stats: data<cut (48<1000) . Skipping ensemble N=32 L=24 T=0.375 s=c\n",
      "# low stats: data<cut (24<1000) . Skipping ensemble N=32 L=24 T=0.375 s=d\n",
      "32 24 0.425 1496.882551020408 4.113564368138749 | 19696 196 a\n",
      "# Skipping ensemble N=32 L=24 T=0.425 s=b\n",
      "32 24 0.450 1332.794105263158 2.3847132756673073 | 19029 190 a\n",
      "# low stats: data<cut (48<1000) . Skipping ensemble N=32 L=24 T=0.450 s=b\n",
      "32 24 0.475 1202.646230366492 1.8720057589152332 | 19140 191 a\n",
      "32 24 0.400 1732.2264971751413 4.199065618025626 | 17722 177 a\n",
      "32 24 0.500 1102.4545341614905 1.7149263587117252 | 16103 161 a\n",
      "# low stats: data<cut (48<1000) . Skipping ensemble N=32 L=32 T=0.100 s=a\n",
      "# low stats: data<cut (144<1000) . Skipping ensemble N=32 L=32 T=0.200 s=a\n",
      "# low stats: data<cut (72<1000) . Skipping ensemble N=32 L=32 T=0.375 s=a\n",
      "# low stats: data<cut (48<1000) . Skipping ensemble N=32 L=32 T=0.375 s=b\n",
      "# low stats: data<cut (96<1000) . Skipping ensemble N=32 L=32 T=0.375 s=c\n",
      "# low stats: data<cut (48<1000) . Skipping ensemble N=32 L=32 T=0.375 s=d\n",
      "# low stats: data<cut (444<1000) . Skipping ensemble N=32 L=32 T=0.300 s=a\n",
      "32 32 0.425 1933.3262499999998 2.542400713951561 | 10444 104 a\n",
      "32 32 0.450 1763.6189175257732 2.583609310152495 | 19408 194 a\n",
      "32 32 0.475 1591.5937368421053 2.187168071512273 | 19086 190 a\n",
      "# Skipping ensemble N=32 L=32 T=0.400 s=a\n",
      "32 32 0.500 1456.0955244755244 1.5703635630533153 | 14352 143 a\n",
      "32 8 0.400 506.9827272727273 3.1791292901767507 | 3382 33 a\n",
      "32 8 0.500 367.3251552795031 0.4554135034139626 | 16182 161 a\n",
      "32 8 0.600 290.69837696335077 0.25143372755341703 | 19195 191 a\n",
      "32 8 0.700 248.31099476439786 0.21173964051427666 | 19175 191 a\n",
      "32 8 0.800 220.9125654450262 0.18266006845890373 | 19176 191 a\n",
      "32 8 0.900 201.03968586387433 0.154714742151986 | 19130 191 a\n",
      "32 8 1.000 187.1602604166667 0.2651158051932784 | 19205 192 a\n",
      "64 16 0.475 821.7566666666667 2.5460116473892964 | 920 9 a\n",
      "64 16 0.500 744.445294117647 1.6681728847628998 | 1707 17 a\n",
      "# low stats: data<cut (60<1000) . Skipping ensemble N=64 L=8 T=0.100 s=a\n",
      "64 8 0.200 662.0653846153847 5.562841491719283 | 1311 13 a\n",
      "64 8 0.300 424.11999999999995 3.953827596484437 | 1378 13 a\n",
      "64 8 0.400 512.3595918367347 1.5232794408202956 | 4968 49 a\n",
      "64 8 0.400 513.8285714285714 4.143524787863405 | 748 7 b\n"
     ]
    }
   ],
   "source": [
    "for filename in files:\n",
    "    do_analysis_cg(filename,'cg_it',cut=1000)"
   ]
  },
  {
   "cell_type": "markdown",
   "metadata": {},
   "source": [
    "## Plot Polyakov loop values"
   ]
  },
  {
   "cell_type": "code",
   "execution_count": 48,
   "metadata": {},
   "outputs": [],
   "source": [
    "filename='datasets/Pol_5000-all.dat'"
   ]
  },
  {
   "cell_type": "code",
   "execution_count": 51,
   "metadata": {},
   "outputs": [
    {
     "data": {
      "text/html": [
       "<div>\n",
       "<style scoped>\n",
       "    .dataframe tbody tr th:only-of-type {\n",
       "        vertical-align: middle;\n",
       "    }\n",
       "\n",
       "    .dataframe tbody tr th {\n",
       "        vertical-align: top;\n",
       "    }\n",
       "\n",
       "    .dataframe thead th {\n",
       "        text-align: right;\n",
       "    }\n",
       "</style>\n",
       "<table border=\"1\" class=\"dataframe\">\n",
       "  <thead>\n",
       "    <tr style=\"text-align: right;\">\n",
       "      <th></th>\n",
       "      <th>N</th>\n",
       "      <th>L</th>\n",
       "      <th>t</th>\n",
       "      <th>Pol</th>\n",
       "      <th>error</th>\n",
       "      <th>cfgs</th>\n",
       "      <th>bins</th>\n",
       "      <th>stream</th>\n",
       "    </tr>\n",
       "  </thead>\n",
       "  <tbody>\n",
       "    <tr>\n",
       "      <th>0</th>\n",
       "      <td>12</td>\n",
       "      <td>12</td>\n",
       "      <td>0.65</td>\n",
       "      <td>0.856316</td>\n",
       "      <td>0.000390</td>\n",
       "      <td>20600</td>\n",
       "      <td>396</td>\n",
       "      <td>a</td>\n",
       "    </tr>\n",
       "    <tr>\n",
       "      <th>1</th>\n",
       "      <td>12</td>\n",
       "      <td>12</td>\n",
       "      <td>0.75</td>\n",
       "      <td>0.882045</td>\n",
       "      <td>0.000208</td>\n",
       "      <td>20000</td>\n",
       "      <td>740</td>\n",
       "      <td>a</td>\n",
       "    </tr>\n",
       "    <tr>\n",
       "      <th>2</th>\n",
       "      <td>12</td>\n",
       "      <td>12</td>\n",
       "      <td>0.85</td>\n",
       "      <td>0.900443</td>\n",
       "      <td>0.000165</td>\n",
       "      <td>20000</td>\n",
       "      <td>952</td>\n",
       "      <td>a</td>\n",
       "    </tr>\n",
       "    <tr>\n",
       "      <th>3</th>\n",
       "      <td>12</td>\n",
       "      <td>16</td>\n",
       "      <td>0.65</td>\n",
       "      <td>0.857448</td>\n",
       "      <td>0.000447</td>\n",
       "      <td>20400</td>\n",
       "      <td>318</td>\n",
       "      <td>a</td>\n",
       "    </tr>\n",
       "    <tr>\n",
       "      <th>4</th>\n",
       "      <td>12</td>\n",
       "      <td>16</td>\n",
       "      <td>0.75</td>\n",
       "      <td>0.883084</td>\n",
       "      <td>0.000335</td>\n",
       "      <td>19200</td>\n",
       "      <td>349</td>\n",
       "      <td>a</td>\n",
       "    </tr>\n",
       "  </tbody>\n",
       "</table>\n",
       "</div>"
      ],
      "text/plain": [
       "    N   L     t       Pol     error   cfgs  bins stream\n",
       "0  12  12  0.65  0.856316  0.000390  20600   396      a\n",
       "1  12  12  0.75  0.882045  0.000208  20000   740      a\n",
       "2  12  12  0.85  0.900443  0.000165  20000   952      a\n",
       "3  12  16  0.65  0.857448  0.000447  20400   318      a\n",
       "4  12  16  0.75  0.883084  0.000335  19200   349      a"
      ]
     },
     "execution_count": 51,
     "metadata": {},
     "output_type": "execute_result"
    }
   ],
   "source": [
    "column_names=['N', 'L', 't', 'Pol', 'error', 'cfgs', 'bins', 'stream']\n",
    "df = pd.read_table(filename,delimiter='\\s+',usecols=[0,1,2,3,4,6,7,8],header=None,skip_blank_lines=True,comment='#',names=column_names)\n",
    "df.head()"
   ]
  },
  {
   "cell_type": "code",
   "execution_count": 27,
   "metadata": {},
   "outputs": [
    {
     "data": {
      "text/plain": [
       "<matplotlib.axes._subplots.AxesSubplot at 0x7f3e74785668>"
      ]
     },
     "execution_count": 27,
     "metadata": {},
     "output_type": "execute_result"
    },
    {
     "data": {
      "image/png": "[encoded data removed]",
      "text/plain": [
       "<Figure size 432x288 with 1 Axes>"
      ]
     },
     "metadata": {
      "needs_background": "light"
     },
     "output_type": "display_data"
    }
   ],
   "source": [
    "df.loc[(df.N==24) & (df.L==24)].plot('t','Pol',style='k.',legend=True,label=r'$|P|$: $N=24$ $L=24$',xlim=[0,1.02],ylim=[0.45,0.925])"
   ]
  },
  {
   "cell_type": "code",
   "execution_count": 58,
   "metadata": {},
   "outputs": [
    {
     "data": {
      "text/plain": [
       "array([12, 16, 24, 32])"
      ]
     },
     "execution_count": 58,
     "metadata": {},
     "output_type": "execute_result"
    }
   ],
   "source": [
    "np.unique(df.N.values)"
   ]
  },
  {
   "cell_type": "code",
   "execution_count": 63,
   "metadata": {},
   "outputs": [
    {
     "data": {
      "image/png": "[encoded data removed]",
      "text/plain": [
       "<Figure size 864x432 with 1 Axes>"
      ]
     },
     "metadata": {
      "needs_background": "light"
     },
     "output_type": "display_data"
    }
   ],
   "source": [
    "fig, ax = plt.subplots(figsize=(12,6))\n",
    "for n in np.unique(df.N.values):\n",
    "    for l in np.unique(df.loc[df.N==n].L.values):\n",
    "        df.loc[(df.N==n) & (df.L==l)].plot('t','Pol',style='k.',legend=True,label=r'$|P|$: $N=${} $L=${}'.format(n,l),ax=ax)"
   ]
  },
  {
   "cell_type": "markdown",
   "metadata": {},
   "source": [
    "## Plot CG iterations"
   ]
  },
  {
   "cell_type": "code",
   "execution_count": 25,
   "metadata": {},
   "outputs": [],
   "source": [
    "filename='datasets/cg_it.dat'"
   ]
  },
  {
   "cell_type": "code",
   "execution_count": 26,
   "metadata": {},
   "outputs": [
    {
     "data": {
      "text/html": [
       "<div>\n",
       "<style scoped>\n",
       "    .dataframe tbody tr th:only-of-type {\n",
       "        vertical-align: middle;\n",
       "    }\n",
       "\n",
       "    .dataframe tbody tr th {\n",
       "        vertical-align: top;\n",
       "    }\n",
       "\n",
       "    .dataframe thead th {\n",
       "        text-align: right;\n",
       "    }\n",
       "</style>\n",
       "<table border=\"1\" class=\"dataframe\">\n",
       "  <thead>\n",
       "    <tr style=\"text-align: right;\">\n",
       "      <th></th>\n",
       "      <th>N</th>\n",
       "      <th>L</th>\n",
       "      <th>t</th>\n",
       "      <th>CG</th>\n",
       "      <th>error</th>\n",
       "      <th>cfgs</th>\n",
       "      <th>bins</th>\n",
       "      <th>stream</th>\n",
       "    </tr>\n",
       "  </thead>\n",
       "  <tbody>\n",
       "    <tr>\n",
       "      <th>0</th>\n",
       "      <td>12</td>\n",
       "      <td>12</td>\n",
       "      <td>0.65</td>\n",
       "      <td>378.914408</td>\n",
       "      <td>0.462987</td>\n",
       "      <td>24591</td>\n",
       "      <td>245</td>\n",
       "      <td>a</td>\n",
       "    </tr>\n",
       "    <tr>\n",
       "      <th>1</th>\n",
       "      <td>12</td>\n",
       "      <td>12</td>\n",
       "      <td>0.75</td>\n",
       "      <td>332.583138</td>\n",
       "      <td>0.373299</td>\n",
       "      <td>23968</td>\n",
       "      <td>239</td>\n",
       "      <td>a</td>\n",
       "    </tr>\n",
       "    <tr>\n",
       "      <th>2</th>\n",
       "      <td>12</td>\n",
       "      <td>12</td>\n",
       "      <td>0.85</td>\n",
       "      <td>299.730460</td>\n",
       "      <td>0.361265</td>\n",
       "      <td>23946</td>\n",
       "      <td>239</td>\n",
       "      <td>a</td>\n",
       "    </tr>\n",
       "    <tr>\n",
       "      <th>3</th>\n",
       "      <td>12</td>\n",
       "      <td>16</td>\n",
       "      <td>0.65</td>\n",
       "      <td>502.331975</td>\n",
       "      <td>0.684102</td>\n",
       "      <td>24393</td>\n",
       "      <td>243</td>\n",
       "      <td>a</td>\n",
       "    </tr>\n",
       "    <tr>\n",
       "      <th>4</th>\n",
       "      <td>12</td>\n",
       "      <td>16</td>\n",
       "      <td>0.75</td>\n",
       "      <td>436.989134</td>\n",
       "      <td>0.533112</td>\n",
       "      <td>23194</td>\n",
       "      <td>231</td>\n",
       "      <td>a</td>\n",
       "    </tr>\n",
       "  </tbody>\n",
       "</table>\n",
       "</div>"
      ],
      "text/plain": [
       "    N   L     t          CG     error   cfgs  bins stream\n",
       "0  12  12  0.65  378.914408  0.462987  24591   245      a\n",
       "1  12  12  0.75  332.583138  0.373299  23968   239      a\n",
       "2  12  12  0.85  299.730460  0.361265  23946   239      a\n",
       "3  12  16  0.65  502.331975  0.684102  24393   243      a\n",
       "4  12  16  0.75  436.989134  0.533112  23194   231      a"
      ]
     },
     "execution_count": 26,
     "metadata": {},
     "output_type": "execute_result"
    }
   ],
   "source": [
    "column_names=['N', 'L', 't', 'CG', 'error', 'cfgs', 'bins', 'stream']\n",
    "df = pd.read_table(filename,delimiter='\\s+',usecols=[0,1,2,3,4,6,7,8],header=None,skip_blank_lines=True,comment='#',names=column_names)\n",
    "df.head()"
   ]
  },
  {
   "cell_type": "code",
   "execution_count": 45,
   "metadata": {},
   "outputs": [
    {
     "data": {
      "text/plain": [
       "<matplotlib.axes._subplots.AxesSubplot at 0x7f040e5dc208>"
      ]
     },
     "execution_count": 45,
     "metadata": {},
     "output_type": "execute_result"
    },
    {
     "data": {
      "image/png": "[encoded data removed]",
      "text/plain": [
       "<Figure size 432x288 with 1 Axes>"
      ]
     },
     "metadata": {},
     "output_type": "display_data"
    }
   ],
   "source": [
    "df.loc[(df.N==24) & (df.L==24)].plot('t','CG',style='k.')"
   ]
  },
  {
   "cell_type": "code",
   "execution_count": 47,
   "metadata": {},
   "outputs": [
    {
     "data": {
      "text/plain": [
       "<matplotlib.axes._subplots.AxesSubplot at 0x7f040eb4f7f0>"
      ]
     },
     "execution_count": 47,
     "metadata": {},
     "output_type": "execute_result"
    },
    {
     "data": {
      "image/png": "[encoded data removed]",
      "text/plain": [
       "<Figure size 432x288 with 1 Axes>"
      ]
     },
     "metadata": {},
     "output_type": "display_data"
    }
   ],
   "source": [
    "df.loc[(df.N==16) & (df.L==24)].plot('t','CG',style='k.')"
   ]
  },
  {
   "cell_type": "markdown",
   "metadata": {},
   "source": [
    "## Compare different streams"
   ]
  },
  {
   "cell_type": "markdown",
   "metadata": {},
   "source": [
    "Load complete database"
   ]
  },
  {
   "cell_type": "code",
   "execution_count": null,
   "metadata": {
    "collapsed": true
   },
   "outputs": [],
   "source": [
    "##### Reading ...\n",
    "column_names=['N', 'L', 't', 'energy', 'error', 'cfgs', 'bins', 'stream']\n",
    "df = pd.read_table('from_masanori/ungauged_energy_allstreams_cut1000.txt',delimiter='\\s+',usecols=[0,1,2,3,4,6,7,8],header=None,skip_blank_lines=True,comment='#',names=column_names)\n",
    "df.head()"
   ]
  },
  {
   "cell_type": "markdown",
   "metadata": {},
   "source": [
    "Look at different values of $N$, $L$ and $T$."
   ]
  },
  {
   "cell_type": "code",
   "execution_count": null,
   "metadata": {
    "collapsed": true
   },
   "outputs": [],
   "source": [
    "for Nc in [16,24,32]:\n",
    "    df.loc[df.N==Nc].plot(x='L',y='t',sort_columns=True,kind='scatter',title='Parameters for $N=${}'.format(Nc),ylim=[0,2],xticks=[8,16,24,32,64])\n"
   ]
  },
  {
   "cell_type": "markdown",
   "metadata": {},
   "source": [
    "Use `groupby` to collect streams into groups with the same parameters"
   ]
  },
  {
   "cell_type": "code",
   "execution_count": null,
   "metadata": {
    "collapsed": true
   },
   "outputs": [],
   "source": [
    "df0=df.groupby(['N','L','t'])"
   ]
  },
  {
   "cell_type": "code",
   "execution_count": null,
   "metadata": {
    "collapsed": true
   },
   "outputs": [],
   "source": [
    "n16s64t05_streams=df0.get_group((16,64,0.5))"
   ]
  },
  {
   "cell_type": "code",
   "execution_count": null,
   "metadata": {
    "collapsed": true
   },
   "outputs": [],
   "source": [
    "n16s64t05_streams"
   ]
  },
  {
   "cell_type": "markdown",
   "metadata": {},
   "source": [
    "Compare energy and error on the different stream"
   ]
  },
  {
   "cell_type": "code",
   "execution_count": null,
   "metadata": {
    "collapsed": true
   },
   "outputs": [],
   "source": [
    "plt.title('$N=$16 $L=$64 $T=$0.5 streams')\n",
    "plt.xticks(n16s64t05_streams['stream'].values)\n",
    "plt.ylabel('E')\n",
    "plt.xlabel('stream')\n",
    "plt.errorbar(x=n16s64t05_streams['stream'].values,y=n16s64t05_streams['energy'].values,yerr=n16s64t05_streams['error'].values,fmt='o')"
   ]
  },
  {
   "cell_type": "markdown",
   "metadata": {},
   "source": [
    "Compare number of bins on different streams"
   ]
  },
  {
   "cell_type": "code",
   "execution_count": null,
   "metadata": {
    "collapsed": true
   },
   "outputs": [],
   "source": [
    "plt.title('$N=$16 $L=$64 $T=$0.5 streams')\n",
    "plt.xticks(n16s64t05_streams['stream'].values)\n",
    "plt.ylabel('bins')\n",
    "plt.xlabel('stream')\n",
    "plt.scatter(n16s64t05_streams['stream'].values,n16s64t05_streams['bins'].values)"
   ]
  },
  {
   "cell_type": "code",
   "execution_count": null,
   "metadata": {
    "collapsed": true
   },
   "outputs": [],
   "source": [
    "n16s64t09_streams['bins'].sum()"
   ]
  },
  {
   "cell_type": "markdown",
   "metadata": {},
   "source": [
    "Compare autocorrelation time on different streams: $\\tau = N_{cfgs}/(3*N_{bins})$"
   ]
  },
  {
   "cell_type": "code",
   "execution_count": null,
   "metadata": {
    "collapsed": true
   },
   "outputs": [],
   "source": [
    "plt.title('$N=$16 $L=$64 $T=$0.9 streams')\n",
    "plt.xticks(n16s64t09_streams['stream'].values)\n",
    "plt.ylabel(r'$\\tau$')\n",
    "plt.xlabel('stream')\n",
    "plt.scatter(n16s64t09_streams['stream'].values,n16s64t09_streams['cfgs'].values/(3.*n16s64t09_streams['bins'].values))"
   ]
  },
  {
   "cell_type": "markdown",
   "metadata": {},
   "source": [
    "Try averaging different streams using `lsqfit.wavg`"
   ]
  },
  {
   "cell_type": "code",
   "execution_count": null,
   "metadata": {
    "collapsed": true
   },
   "outputs": [],
   "source": [
    "gvals = gv.gvar(n16s64t09_streams['energy'].values,n16s64t09_streams['error'].values)"
   ]
  },
  {
   "cell_type": "code",
   "execution_count": null,
   "metadata": {
    "collapsed": true
   },
   "outputs": [],
   "source": [
    "gavg = ls.wavg(list(gvals))"
   ]
  },
  {
   "cell_type": "code",
   "execution_count": null,
   "metadata": {
    "collapsed": true
   },
   "outputs": [],
   "source": [
    "gavg.mean"
   ]
  },
  {
   "cell_type": "code",
   "execution_count": null,
   "metadata": {
    "collapsed": true
   },
   "outputs": [],
   "source": [
    "plt.xticks(n16s64t09_streams['stream'].values)\n",
    "plt.ylabel('E')\n",
    "plt.xlabel('stream')\n",
    "plt.errorbar(x=n16s64t09_streams['stream'].values,y=n16s64t09_streams['energy'].values,yerr=n16s64t09_streams['error'].values,fmt='o')\n",
    "plt.axhline(gavg.mean,color='k',ls='--')\n",
    "plt.axhspan(gavg.mean+gavg.sdev,gavg.mean-gavg.sdev,color='k',alpha=0.2)"
   ]
  }
 ],
 "metadata": {
  "kernelspec": {
   "display_name": "Python 3",
   "language": "python",
   "name": "python3"
  },
  "language_info": {
   "codemirror_mode": {
    "name": "ipython",
    "version": 3
   },
   "file_extension": ".py",
   "mimetype": "text/x-python",
   "name": "python",
   "nbconvert_exporter": "python",
   "pygments_lexer": "ipython3",
   "version": "3.6.6"
  }
 },
 "nbformat": 4,
 "nbformat_minor": 2
}
